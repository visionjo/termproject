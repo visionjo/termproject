{
 "cells": [
  {
   "cell_type": "code",
   "execution_count": 1,
   "metadata": {
    "collapsed": true
   },
   "outputs": [],
   "source": [
    "import numpy as np\n",
    "\n",
    "import src.data.fiw as fiwdb\n",
    "import matplotlib.pyplot as plt\n",
    "import seaborn as sns\n",
    "\n",
    "%matplotlib inline\n",
    "sns.set(color_codes=True)\n",
    "\n",
    "plt.style.use('default')\n",
    "# pd.options.display.mpl_style = 'default'\n"
   ]
  },
  {
   "cell_type": "markdown",
   "metadata": {},
   "source": [
    "Load PID LUT and display top few lines. From this, many stats will be generated."
   ]
  },
  {
   "cell_type": "code",
   "execution_count": 2,
   "metadata": {},
   "outputs": [
    {
     "data": {
      "text/html": [
       "<div>\n",
       "<style>\n",
       "    .dataframe thead tr:only-child th {\n",
       "        text-align: right;\n",
       "    }\n",
       "\n",
       "    .dataframe thead th {\n",
       "        text-align: left;\n",
       "    }\n",
       "\n",
       "    .dataframe tbody tr th {\n",
       "        vertical-align: top;\n",
       "    }\n",
       "</style>\n",
       "<table border=\"1\" class=\"dataframe\">\n",
       "  <thead>\n",
       "    <tr style=\"text-align: right;\">\n",
       "      <th></th>\n",
       "      <th>PIDs</th>\n",
       "      <th>FIDs</th>\n",
       "      <th>SURNAME</th>\n",
       "      <th>URL</th>\n",
       "      <th>METADATA</th>\n",
       "    </tr>\n",
       "  </thead>\n",
       "  <tbody>\n",
       "    <tr>\n",
       "      <th>0</th>\n",
       "      <td>P00001</td>\n",
       "      <td>F0001</td>\n",
       "      <td>Abbas.Mahmoud.Q</td>\n",
       "      <td>http://www.jpost.com/HttpHandlers/ShowImage.as...</td>\n",
       "      <td>Madmoud and wife Amina</td>\n",
       "    </tr>\n",
       "    <tr>\n",
       "      <th>1</th>\n",
       "      <td>P00002</td>\n",
       "      <td>F0001</td>\n",
       "      <td>Abbas.Mahmoud.Q</td>\n",
       "      <td>http://media.israelhayom.co.il/2014/06/16/1402...</td>\n",
       "      <td>Madmoud and wife Amina</td>\n",
       "    </tr>\n",
       "    <tr>\n",
       "      <th>2</th>\n",
       "      <td>P00003</td>\n",
       "      <td>F0001</td>\n",
       "      <td>Abbas.Mahmoud.Q</td>\n",
       "      <td>http://img.mako.co.il/2014/06/15/509613pic_C.jpg</td>\n",
       "      <td>Madmoud and wife Amina</td>\n",
       "    </tr>\n",
       "    <tr>\n",
       "      <th>3</th>\n",
       "      <td>P00004</td>\n",
       "      <td>F0001</td>\n",
       "      <td>Abbas.Mahmoud.Q</td>\n",
       "      <td>http://images1.ynet.co.il/PicServer4/2014/06/1...</td>\n",
       "      <td>Madmoud and wife Amina</td>\n",
       "    </tr>\n",
       "    <tr>\n",
       "      <th>4</th>\n",
       "      <td>P00005</td>\n",
       "      <td>F0001</td>\n",
       "      <td>Abbas.Mahmoud.Q</td>\n",
       "      <td>http://www.menassat.com/files/images/abbbbbbba...</td>\n",
       "      <td>Defacto Palestinian president Mahmoud Abbas (c...</td>\n",
       "    </tr>\n",
       "  </tbody>\n",
       "</table>\n",
       "</div>"
      ],
      "text/plain": [
       "<div>\n",
       "<style>\n",
       "    .dataframe thead tr:only-child th {\n",
       "        text-align: right;\n",
       "    }\n",
       "\n",
       "    .dataframe thead th {\n",
       "        text-align: left;\n",
       "    }\n",
       "\n",
       "    .dataframe tbody tr th {\n",
       "        vertical-align: top;\n",
       "    }\n",
       "</style>\n",
       "<table border=\"1\" class=\"dataframe\">\n",
       "  <thead>\n",
       "    <tr style=\"text-align: right;\">\n",
       "      <th></th>\n",
       "      <th>PIDs</th>\n",
       "      <th>FIDs</th>\n",
       "      <th>SURNAME</th>\n",
       "      <th>URL</th>\n",
       "      <th>METADATA</th>\n",
       "    </tr>\n",
       "  </thead>\n",
       "  <tbody>\n",
       "    <tr>\n",
       "      <th>0</th>\n",
       "      <td>P00001</td>\n",
       "      <td>F0001</td>\n",
       "      <td>Abbas.Mahmoud.Q</td>\n",
       "      <td>http://www.jpost.com/HttpHandlers/ShowImage.as...</td>\n",
       "      <td>Madmoud and wife Amina</td>\n",
       "    </tr>\n",
       "    <tr>\n",
       "      <th>1</th>\n",
       "      <td>P00002</td>\n",
       "      <td>F0001</td>\n",
       "      <td>Abbas.Mahmoud.Q</td>\n",
       "      <td>http://media.israelhayom.co.il/2014/06/16/1402...</td>\n",
       "      <td>Madmoud and wife Amina</td>\n",
       "    </tr>\n",
       "    <tr>\n",
       "      <th>2</th>\n",
       "      <td>P00003</td>\n",
       "      <td>F0001</td>\n",
       "      <td>Abbas.Mahmoud.Q</td>\n",
       "      <td>http://img.mako.co.il/2014/06/15/509613pic_C.jpg</td>\n",
       "      <td>Madmoud and wife Amina</td>\n",
       "    </tr>\n",
       "    <tr>\n",
       "      <th>3</th>\n",
       "      <td>P00004</td>\n",
       "      <td>F0001</td>\n",
       "      <td>Abbas.Mahmoud.Q</td>\n",
       "      <td>http://images1.ynet.co.il/PicServer4/2014/06/1...</td>\n",
       "      <td>Madmoud and wife Amina</td>\n",
       "    </tr>\n",
       "    <tr>\n",
       "      <th>4</th>\n",
       "      <td>P00005</td>\n",
       "      <td>F0001</td>\n",
       "      <td>Abbas.Mahmoud.Q</td>\n",
       "      <td>http://www.menassat.com/files/images/abbbbbbba...</td>\n",
       "      <td>Defacto Palestinian president Mahmoud Abbas (c...</td>\n",
       "    </tr>\n",
       "  </tbody>\n",
       "</table>\n",
       "</div>"
      ]
     },
     "execution_count": 2,
     "metadata": {},
     "output_type": "execute_result"
    }
   ],
   "source": [
    "df_pid_lut = fiwdb.load_pid_lut()\n",
    "df_pid_lut.head()"
   ]
  },
  {
   "cell_type": "markdown",
   "metadata": {},
   "source": [
    "Visualize number images per family as histogram"
   ]
  },
  {
   "cell_type": "code",
   "execution_count": 9,
   "metadata": {},
   "outputs": [
    {
     "data": {
      "text/plain": [
       "<matplotlib.text.Text at 0x10d5fd1d0>"
      ]
     },
     "execution_count": 9,
     "metadata": {},
     "output_type": "execute_result"
    },
    {
     "data": {
      "image/png": "[encoded data removed]",
      "text/plain": [
       "<matplotlib.figure.Figure at 0x10c6e7978>"
      ]
     },
     "metadata": {},
     "output_type": "display_data"
    }
   ],
   "source": [
    "# df_pid_lut.FIDs.apply(df_pid_lut.FIDs.value_counts).plot(kind='bar')\n",
    "all_fids = [np.uint(fid[1:]) for fid in list(df_pid_lut.FIDs)]\n",
    "n, bins, patches = plt.hist(all_fids, 1000, facecolor='green')\n",
    "plt.axis([1, 1000, 0, 30])\n",
    "plt.grid(True)\n",
    "plt.xlabel('FID')\n",
    "plt.ylabel('No. Images')\n",
    "plt.title('Distributions of PIDs per FID')\n"
   ]
  },
  {
   "cell_type": "code",
   "execution_count": 4,
   "metadata": {},
   "outputs": [],
   "source": [
    "dir_data = '/Users/josephrobinson//Dropbox/Families_In_The_Wild/Database/FIDs/'\n",
    "dirs_fid, fids = fiwdb.load_fids(dir_data)"
   ]
  },
  {
   "cell_type": "code",
   "execution_count": null,
   "metadata": {},
   "outputs": [],
   "source": [
    "dfs_fid = db"
   ]
  }
 ],
 "metadata": {
  "kernelspec": {
   "display_name": "Python 2",
   "language": "python",
   "name": "python2"
  },
  "language_info": {
   "codemirror_mode": {
    "name": "ipython",
    "version": 2
   },
   "file_extension": ".py",
   "mimetype": "text/x-python",
   "name": "python",
   "nbconvert_exporter": "python",
   "pygments_lexer": "ipython2",
   "version": "2.7.6"
  }
 },
 "nbformat": 4,
 "nbformat_minor": 0
}
